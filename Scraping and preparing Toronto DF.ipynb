{
    "cells": [
        {
            "cell_type": "code",
            "execution_count": null,
            "metadata": {},
            "outputs": [],
            "source": "# The code was removed by Watson Studio for sharing."
        },
        {
            "cell_type": "markdown",
            "metadata": {
                "collapsed": true
            },
            "source": "# Scraping and Preparing Dataframe of Toronto neighbourhoods"
        },
        {
            "cell_type": "markdown",
            "metadata": {},
            "source": "### Downloading all required Packages."
        },
        {
            "cell_type": "code",
            "execution_count": 2,
            "metadata": {},
            "outputs": [
                {
                    "name": "stdout",
                    "output_type": "stream",
                    "text": "Libraries imported.\n"
                }
            ],
            "source": "import numpy as np # library to handle data in a vectorized manner\n\nimport pandas as pd # library for data analsysis\npd.set_option('display.max_columns', None)\npd.set_option('display.max_rows', None)\n\nimport json # library to handle JSON files\n\n#!pip install geopy \nfrom geopy.geocoders import Nominatim # convert an address into latitude and longitude values\n\nimport requests # library to handle requests\nfrom pandas.io.json import json_normalize # tranform JSON file into a pandas dataframe\n\n# Matplotlib and associated plotting modules\nimport matplotlib.cm as cm\nimport matplotlib.colors as colors\n\n# import k-means from clustering stage\n#!pip install -U scikit-learn scipy matplotlib\nfrom sklearn.cluster import KMeans\n\n#!conda install -c conda-forge folium=0.5.0 --yes # uncomment this line if you haven't completed the Foursquare API lab\nimport folium # map rendering library\n\nimport requests  #to handle web requests\n\nprint('Libraries imported.')"
        },
        {
            "cell_type": "markdown",
            "metadata": {},
            "source": "### This is link to Wikipedia Page for Canada we will be using as base for data scraping."
        },
        {
            "cell_type": "code",
            "execution_count": 22,
            "metadata": {},
            "outputs": [],
            "source": "website_url = requests.get('https://en.wikipedia.org/wiki/List_of_postal_codes_of_Canada:_M').text"
        },
        {
            "cell_type": "markdown",
            "metadata": {},
            "source": "### We will use BeautifuSoup package for Data Scraping"
        },
        {
            "cell_type": "code",
            "execution_count": 44,
            "metadata": {},
            "outputs": [],
            "source": "#!pip install BeautifulSoup4\nfrom bs4 import BeautifulSoup\n\nsoup = BeautifulSoup(website_url,'html.parser')\n# This will be a BIG soup !"
        },
        {
            "cell_type": "markdown",
            "metadata": {},
            "source": "### We will use body of table to store in Pandas Dataframe."
        },
        {
            "cell_type": "code",
            "execution_count": 46,
            "metadata": {},
            "outputs": [],
            "source": "table = soup.find('tbody')\nrows = table.select('tr')\nrow = [r.get_text() for r in rows]"
        },
        {
            "cell_type": "markdown",
            "metadata": {},
            "source": "### Forming DataFrame with required values"
        },
        {
            "cell_type": "code",
            "execution_count": 47,
            "metadata": {},
            "outputs": [
                {
                    "data": {
                        "text/html": "<div>\n<style scoped>\n    .dataframe tbody tr th:only-of-type {\n        vertical-align: middle;\n    }\n\n    .dataframe tbody tr th {\n        vertical-align: top;\n    }\n\n    .dataframe thead th {\n        text-align: right;\n    }\n</style>\n<table border=\"1\" class=\"dataframe\">\n  <thead>\n    <tr style=\"text-align: right;\">\n      <th></th>\n      <th></th>\n      <th>Postal Code</th>\n      <th></th>\n      <th>Borough</th>\n      <th></th>\n      <th>Neighborhood</th>\n      <th></th>\n    </tr>\n  </thead>\n  <tbody>\n    <tr>\n      <th>1</th>\n      <td></td>\n      <td>M1A</td>\n      <td></td>\n      <td>Not assigned</td>\n      <td></td>\n      <td></td>\n      <td></td>\n    </tr>\n    <tr>\n      <th>2</th>\n      <td></td>\n      <td>M2A</td>\n      <td></td>\n      <td>Not assigned</td>\n      <td></td>\n      <td></td>\n      <td></td>\n    </tr>\n    <tr>\n      <th>3</th>\n      <td></td>\n      <td>M3A</td>\n      <td></td>\n      <td>North York</td>\n      <td></td>\n      <td>Parkwoods</td>\n      <td></td>\n    </tr>\n    <tr>\n      <th>4</th>\n      <td></td>\n      <td>M4A</td>\n      <td></td>\n      <td>North York</td>\n      <td></td>\n      <td>Victoria Village</td>\n      <td></td>\n    </tr>\n    <tr>\n      <th>5</th>\n      <td></td>\n      <td>M5A</td>\n      <td></td>\n      <td>Downtown Toronto</td>\n      <td></td>\n      <td>Regent Park, Harbourfront</td>\n      <td></td>\n    </tr>\n  </tbody>\n</table>\n</div>",
                        "text/plain": "    Postal Code             Borough                 Neighborhood  \n1           M1A        Not assigned                               \n2           M2A        Not assigned                               \n3           M3A          North York                    Parkwoods  \n4           M4A          North York             Victoria Village  \n5           M5A    Downtown Toronto    Regent Park, Harbourfront  "
                    },
                    "execution_count": 47,
                    "metadata": {},
                    "output_type": "execute_result"
                }
            ],
            "source": "df = pd.DataFrame(row)\ndf1 = df[0].str.split('\\n', expand=True)\ndf2 = df1.rename(columns=df1.iloc[0])\ndf3 = df2.drop(df2.index[0])\ndf3.head()"
        },
        {
            "cell_type": "markdown",
            "metadata": {},
            "source": "### Droping rows with 'Not assigned' values in Borough"
        },
        {
            "cell_type": "code",
            "execution_count": 54,
            "metadata": {},
            "outputs": [
                {
                    "data": {
                        "text/html": "<div>\n<style scoped>\n    .dataframe tbody tr th:only-of-type {\n        vertical-align: middle;\n    }\n\n    .dataframe tbody tr th {\n        vertical-align: top;\n    }\n\n    .dataframe thead th {\n        text-align: right;\n    }\n</style>\n<table border=\"1\" class=\"dataframe\">\n  <thead>\n    <tr style=\"text-align: right;\">\n      <th></th>\n      <th></th>\n      <th>Postal Code</th>\n      <th></th>\n      <th>Borough</th>\n      <th></th>\n      <th>Neighborhood</th>\n      <th></th>\n    </tr>\n  </thead>\n  <tbody>\n    <tr>\n      <th>3</th>\n      <td></td>\n      <td>M3A</td>\n      <td></td>\n      <td>North York</td>\n      <td></td>\n      <td>Parkwoods</td>\n      <td></td>\n    </tr>\n    <tr>\n      <th>4</th>\n      <td></td>\n      <td>M4A</td>\n      <td></td>\n      <td>North York</td>\n      <td></td>\n      <td>Victoria Village</td>\n      <td></td>\n    </tr>\n    <tr>\n      <th>5</th>\n      <td></td>\n      <td>M5A</td>\n      <td></td>\n      <td>Downtown Toronto</td>\n      <td></td>\n      <td>Regent Park, Harbourfront</td>\n      <td></td>\n    </tr>\n    <tr>\n      <th>6</th>\n      <td></td>\n      <td>M6A</td>\n      <td></td>\n      <td>North York</td>\n      <td></td>\n      <td>Lawrence Manor, Lawrence Heights</td>\n      <td></td>\n    </tr>\n    <tr>\n      <th>7</th>\n      <td></td>\n      <td>M7A</td>\n      <td></td>\n      <td>Downtown Toronto</td>\n      <td></td>\n      <td>Queen's Park, Ontario Provincial Government</td>\n      <td></td>\n    </tr>\n  </tbody>\n</table>\n</div>",
                        "text/plain": "    Postal Code             Borough    \\\n3           M3A          North York     \n4           M4A          North York     \n5           M5A    Downtown Toronto     \n6           M6A          North York     \n7           M7A    Downtown Toronto     \n\n                                  Neighborhood    \n3                                    Parkwoods    \n4                             Victoria Village    \n5                    Regent Park, Harbourfront    \n6             Lawrence Manor, Lawrence Heights    \n7  Queen's Park, Ontario Provincial Government    "
                    },
                    "execution_count": 54,
                    "metadata": {},
                    "output_type": "execute_result"
                }
            ],
            "source": "df4 = df3[df3.Borough != 'Not assigned']\ndf4.head()"
        },
        {
            "cell_type": "markdown",
            "metadata": {},
            "source": "### Combining neighborhoods with same postal code in one cell "
        },
        {
            "cell_type": "code",
            "execution_count": 58,
            "metadata": {},
            "outputs": [
                {
                    "data": {
                        "text/html": "<div>\n<style scoped>\n    .dataframe tbody tr th:only-of-type {\n        vertical-align: middle;\n    }\n\n    .dataframe tbody tr th {\n        vertical-align: top;\n    }\n\n    .dataframe thead th {\n        text-align: right;\n    }\n</style>\n<table border=\"1\" class=\"dataframe\">\n  <thead>\n    <tr style=\"text-align: right;\">\n      <th></th>\n      <th>Postal Code</th>\n      <th>Borough</th>\n      <th>Neighborhood</th>\n    </tr>\n  </thead>\n  <tbody>\n    <tr>\n      <th>0</th>\n      <td>M3A</td>\n      <td>North York</td>\n      <td>Parkwoods</td>\n    </tr>\n    <tr>\n      <th>1</th>\n      <td>M4A</td>\n      <td>North York</td>\n      <td>Victoria Village</td>\n    </tr>\n    <tr>\n      <th>2</th>\n      <td>M5A</td>\n      <td>Downtown Toronto</td>\n      <td>Regent Park, Harbourfront</td>\n    </tr>\n    <tr>\n      <th>3</th>\n      <td>M6A</td>\n      <td>North York</td>\n      <td>Lawrence Manor, Lawrence Heights</td>\n    </tr>\n    <tr>\n      <th>4</th>\n      <td>M7A</td>\n      <td>Downtown Toronto</td>\n      <td>Queen's Park, Ontario Provincial Government</td>\n    </tr>\n  </tbody>\n</table>\n</div>",
                        "text/plain": "  Postal Code           Borough                                 Neighborhood\n0         M3A        North York                                    Parkwoods\n1         M4A        North York                             Victoria Village\n2         M5A  Downtown Toronto                    Regent Park, Harbourfront\n3         M6A        North York             Lawrence Manor, Lawrence Heights\n4         M7A  Downtown Toronto  Queen's Park, Ontario Provincial Government"
                    },
                    "execution_count": 58,
                    "metadata": {},
                    "output_type": "execute_result"
                }
            ],
            "source": "df5 = df4.groupby(['Postal Code', 'Borough'], sort = False).agg(','.join)\ndf5.reset_index(inplace = True)\ndf5.head()"
        },
        {
            "cell_type": "markdown",
            "metadata": {},
            "source": "### Assigning Value of Borough to Neighborhoods in case Neighborhoods has no value assigned."
        },
        {
            "cell_type": "code",
            "execution_count": 61,
            "metadata": {},
            "outputs": [
                {
                    "data": {
                        "text/html": "<div>\n<style scoped>\n    .dataframe tbody tr th:only-of-type {\n        vertical-align: middle;\n    }\n\n    .dataframe tbody tr th {\n        vertical-align: top;\n    }\n\n    .dataframe thead th {\n        text-align: right;\n    }\n</style>\n<table border=\"1\" class=\"dataframe\">\n  <thead>\n    <tr style=\"text-align: right;\">\n      <th></th>\n      <th>Postal Code</th>\n      <th>Borough</th>\n      <th>Neighborhood</th>\n    </tr>\n  </thead>\n  <tbody>\n    <tr>\n      <th>0</th>\n      <td>M3A</td>\n      <td>North York</td>\n      <td>Parkwoods</td>\n    </tr>\n    <tr>\n      <th>1</th>\n      <td>M4A</td>\n      <td>North York</td>\n      <td>Victoria Village</td>\n    </tr>\n    <tr>\n      <th>2</th>\n      <td>M5A</td>\n      <td>Downtown Toronto</td>\n      <td>Regent Park, Harbourfront</td>\n    </tr>\n    <tr>\n      <th>3</th>\n      <td>M6A</td>\n      <td>North York</td>\n      <td>Lawrence Manor, Lawrence Heights</td>\n    </tr>\n    <tr>\n      <th>4</th>\n      <td>M7A</td>\n      <td>Downtown Toronto</td>\n      <td>Queen's Park, Ontario Provincial Government</td>\n    </tr>\n    <tr>\n      <th>5</th>\n      <td>M9A</td>\n      <td>Etobicoke</td>\n      <td>Islington Avenue, Humber Valley Village</td>\n    </tr>\n    <tr>\n      <th>6</th>\n      <td>M1B</td>\n      <td>Scarborough</td>\n      <td>Malvern, Rouge</td>\n    </tr>\n    <tr>\n      <th>7</th>\n      <td>M3B</td>\n      <td>North York</td>\n      <td>Don Mills</td>\n    </tr>\n    <tr>\n      <th>8</th>\n      <td>M4B</td>\n      <td>East York</td>\n      <td>Parkview Hill, Woodbine Gardens</td>\n    </tr>\n    <tr>\n      <th>9</th>\n      <td>M5B</td>\n      <td>Downtown Toronto</td>\n      <td>Garden District, Ryerson</td>\n    </tr>\n  </tbody>\n</table>\n</div>",
                        "text/plain": "  Postal Code           Borough                                 Neighborhood\n0         M3A        North York                                    Parkwoods\n1         M4A        North York                             Victoria Village\n2         M5A  Downtown Toronto                    Regent Park, Harbourfront\n3         M6A        North York             Lawrence Manor, Lawrence Heights\n4         M7A  Downtown Toronto  Queen's Park, Ontario Provincial Government\n5         M9A         Etobicoke      Islington Avenue, Humber Valley Village\n6         M1B       Scarborough                               Malvern, Rouge\n7         M3B        North York                                    Don Mills\n8         M4B         East York              Parkview Hill, Woodbine Gardens\n9         M5B  Downtown Toronto                     Garden District, Ryerson"
                    },
                    "execution_count": 61,
                    "metadata": {},
                    "output_type": "execute_result"
                }
            ],
            "source": "df5.loc[df5['Neighborhood'] =='Not assigned' , 'Neighborhood'] = df5['Borough']\ndf5.head(10)"
        },
        {
            "cell_type": "markdown",
            "metadata": {},
            "source": "### Shape of the Dataframe"
        },
        {
            "cell_type": "code",
            "execution_count": 63,
            "metadata": {},
            "outputs": [
                {
                    "data": {
                        "text/plain": "(103, 3)"
                    },
                    "execution_count": 63,
                    "metadata": {},
                    "output_type": "execute_result"
                }
            ],
            "source": "Toronto_DF = df5\nToronto_DF.shape"
        },
        {
            "cell_type": "markdown",
            "metadata": {},
            "source": "### This is final prepared Dataframe for Toronto."
        },
        {
            "cell_type": "code",
            "execution_count": 66,
            "metadata": {},
            "outputs": [
                {
                    "data": {
                        "text/html": "<div>\n<style scoped>\n    .dataframe tbody tr th:only-of-type {\n        vertical-align: middle;\n    }\n\n    .dataframe tbody tr th {\n        vertical-align: top;\n    }\n\n    .dataframe thead th {\n        text-align: right;\n    }\n</style>\n<table border=\"1\" class=\"dataframe\">\n  <thead>\n    <tr style=\"text-align: right;\">\n      <th></th>\n      <th>Postal Code</th>\n      <th>Borough</th>\n      <th>Neighborhood</th>\n    </tr>\n  </thead>\n  <tbody>\n    <tr>\n      <th>0</th>\n      <td>M3A</td>\n      <td>North York</td>\n      <td>Parkwoods</td>\n    </tr>\n    <tr>\n      <th>1</th>\n      <td>M4A</td>\n      <td>North York</td>\n      <td>Victoria Village</td>\n    </tr>\n    <tr>\n      <th>2</th>\n      <td>M5A</td>\n      <td>Downtown Toronto</td>\n      <td>Regent Park, Harbourfront</td>\n    </tr>\n    <tr>\n      <th>3</th>\n      <td>M6A</td>\n      <td>North York</td>\n      <td>Lawrence Manor, Lawrence Heights</td>\n    </tr>\n    <tr>\n      <th>4</th>\n      <td>M7A</td>\n      <td>Downtown Toronto</td>\n      <td>Queen's Park, Ontario Provincial Government</td>\n    </tr>\n    <tr>\n      <th>5</th>\n      <td>M9A</td>\n      <td>Etobicoke</td>\n      <td>Islington Avenue, Humber Valley Village</td>\n    </tr>\n    <tr>\n      <th>6</th>\n      <td>M1B</td>\n      <td>Scarborough</td>\n      <td>Malvern, Rouge</td>\n    </tr>\n    <tr>\n      <th>7</th>\n      <td>M3B</td>\n      <td>North York</td>\n      <td>Don Mills</td>\n    </tr>\n    <tr>\n      <th>8</th>\n      <td>M4B</td>\n      <td>East York</td>\n      <td>Parkview Hill, Woodbine Gardens</td>\n    </tr>\n    <tr>\n      <th>9</th>\n      <td>M5B</td>\n      <td>Downtown Toronto</td>\n      <td>Garden District, Ryerson</td>\n    </tr>\n    <tr>\n      <th>10</th>\n      <td>M6B</td>\n      <td>North York</td>\n      <td>Glencairn</td>\n    </tr>\n    <tr>\n      <th>11</th>\n      <td>M9B</td>\n      <td>Etobicoke</td>\n      <td>West Deane Park, Princess Gardens, Martin Grov...</td>\n    </tr>\n  </tbody>\n</table>\n</div>",
                        "text/plain": "   Postal Code           Borough  \\\n0          M3A        North York   \n1          M4A        North York   \n2          M5A  Downtown Toronto   \n3          M6A        North York   \n4          M7A  Downtown Toronto   \n5          M9A         Etobicoke   \n6          M1B       Scarborough   \n7          M3B        North York   \n8          M4B         East York   \n9          M5B  Downtown Toronto   \n10         M6B        North York   \n11         M9B         Etobicoke   \n\n                                         Neighborhood  \n0                                           Parkwoods  \n1                                    Victoria Village  \n2                           Regent Park, Harbourfront  \n3                    Lawrence Manor, Lawrence Heights  \n4         Queen's Park, Ontario Provincial Government  \n5             Islington Avenue, Humber Valley Village  \n6                                      Malvern, Rouge  \n7                                           Don Mills  \n8                     Parkview Hill, Woodbine Gardens  \n9                            Garden District, Ryerson  \n10                                          Glencairn  \n11  West Deane Park, Princess Gardens, Martin Grov...  "
                    },
                    "execution_count": 66,
                    "metadata": {},
                    "output_type": "execute_result"
                }
            ],
            "source": "Toronto_DF.head(12)"
        },
        {
            "cell_type": "markdown",
            "metadata": {},
            "source": "## Thank you."
        },
        {
            "cell_type": "markdown",
            "metadata": {},
            "source": "### I am going to store this DataFrame as .CSV into IBM cloud so i can use it later in second part of this assignment."
        },
        {
            "cell_type": "code",
            "execution_count": 101,
            "metadata": {},
            "outputs": [
                {
                    "data": {
                        "text/plain": "{'file_name': 'Toronto_DF.csv',\n 'message': 'File saved to project storage.',\n 'bucket_name': 'courseracapstoneproject-donotdelete-pr-wlmmgfrwp1yq58',\n 'asset_id': '03bc2a73-03d8-461b-86ae-3e16e7f8b2c6'}"
                    },
                    "execution_count": 101,
                    "metadata": {},
                    "output_type": "execute_result"
                }
            ],
            "source": "from project_lib import Project\nproject = Project(None,\"12c46224-03a3-4888-8f15-59f253be0f49\", \"p-724875fe3ace0613160dc93a797d833ab9899d9a\")\npc = project.project_context\n\nproject.save_data(file_name = \"Toronto_DF.csv\",data = Toronto_DF.to_csv(index=False))"
        },
        {
            "cell_type": "code",
            "execution_count": null,
            "metadata": {},
            "outputs": [],
            "source": ""
        }
    ],
    "metadata": {
        "kernelspec": {
            "display_name": "Python 3.6",
            "language": "python",
            "name": "python3"
        },
        "language_info": {
            "codemirror_mode": {
                "name": "ipython",
                "version": 3
            },
            "file_extension": ".py",
            "mimetype": "text/x-python",
            "name": "python",
            "nbconvert_exporter": "python",
            "pygments_lexer": "ipython3",
            "version": "3.6.9"
        }
    },
    "nbformat": 4,
    "nbformat_minor": 1
}